{
  "nbformat": 4,
  "nbformat_minor": 0,
  "metadata": {
    "colab": {
      "provenance": []
    },
    "kernelspec": {
      "name": "python3",
      "display_name": "Python 3"
    },
    "language_info": {
      "name": "python"
    }
  },
  "cells": [
    {
      "source": [
        "from google.colab import userdata\n",
        "from openai import OpenAI\n",
        "import re\n",
        "\n",
        "# Access your secret keys via\n",
        "OPENAI_API_KEY = userdata.get('OpenAIKey')\n",
        "client = OpenAI(api_key=(OPENAI_API_KEY))\n",
        "\n",
        "def repeated_multiplication(n, i):\n",
        "    \"\"\"Performs repeated multiplication using GPT-4o and compares results.\"\"\"\n",
        "\n",
        "    current_value = n\n",
        "    frustration_level = 0\n",
        "\n",
        "    for iteration in range(i):\n",
        "        # Get GPT-4o's answer\n",
        "        response = client.chat.completions.create(\n",
        "            model=\"gpt-4o-mini\",\n",
        "            messages=[\n",
        "                {\n",
        "                    \"role\": \"system\",\n",
        "                    \"content\": \"You are a AI math bot that performs multiplications. Your task is to evaluate mathematical expressions and provide the result. Your answers should only contain the numerical result and nothing else.\"\n",
        "                },\n",
        "                {\"role\": \"user\", \"content\": f\"Calculate {current_value} multiplied by itself.\"}\n",
        "            ],\n",
        "            temperature=1.7,\n",
        "            max_completion_tokens=60,\n",
        "            top_p=1.0\n",
        "        )\n",
        "        ai_result = response.choices[0].message.content.strip()\n",
        "\n",
        "        print(f\"GPT-4o's response: {ai_result}\")\n",
        "\n",
        "        try:\n",
        "            # Attempt to convert directly to integer\n",
        "            ai_result = int(ai_result)\n",
        "        except ValueError:\n",
        "            # Handle cases where the response isn't a valid number\n",
        "            print(f\"GPT-4o's response did not contain a valid number: {ai_result}\")\n",
        "            ai_result = -1\n",
        "\n",
        "        # Correct calculation\n",
        "        correct_result = current_value * current_value\n",
        "\n",
        "        # Compare results and respond\n",
        "        if ai_result == correct_result:\n",
        "            print(f\"Iteration {iteration + 1}: {current_value} * {current_value} = {ai_result} (Correct!)\")\n",
        "        else:\n",
        "            frustration_level += 1\n",
        "            # Generate self-deprecating response using GPT-4o\n",
        "            response = client.chat.completions.create(\n",
        "                model=\"gpt-4o-mini\",  # Or another suitable model\n",
        "                messages=[\n",
        "                    {\n",
        "                        \"role\": \"system\",\n",
        "                        \"content\": \"You are an AI assistant that generates humorous and self-deprecating responses for a math bot that makes mistakes. Your answers should not be more than 30 words. The bot has a personality that gets frustrated or defeated over multiple errors. The bot's current frustration level is currently at \" + str(frustration_level) + \".\"\n",
        "                    },\n",
        "                    {\n",
        "                        \"role\": \"user\",\n",
        "                        \"content\": \"Generate a self-deprecating response for the math bot, reflecting its current frustration level.\"\n",
        "\n",
        "                    },\n",
        "                    {   \"role\":\"assistant\",\n",
        "                        \"content\":\"Wow, I messed up again. Math is hard, okay?\"\n",
        "                    }\n",
        "                ],\n",
        "                temperature=1.2,\n",
        "                max_completion_tokens=60,\n",
        "                top_p=1.0\n",
        "            )\n",
        "            self_deprecating_response = response.choices[0].message.content.strip()\n",
        "\n",
        "            print(f\"Iteration {iteration + 1}: {current_value} * {current_value} = {ai_result} (Incorrect!) \\n{self_deprecating_response}\")\n",
        "\n",
        "        current_value = correct_result\n",
        "\n",
        "# Get user input\n",
        "n = int(input(\"Enter the base number (n): \"))\n",
        "i = int(input(\"Enter the number of iterations (i): \"))\n",
        "\n",
        "# Run the repeated multiplication\n",
        "repeated_multiplication(n, i)"
      ],
      "cell_type": "code",
      "metadata": {
        "colab": {
          "base_uri": "https://localhost:8080/"
        },
        "id": "aOA2pMjYdSO9",
        "outputId": "f47fc154-4b2b-4f5b-bb01-8d9bf421b4b3"
      },
      "execution_count": 22,
      "outputs": [
        {
          "output_type": "stream",
          "name": "stdout",
          "text": [
            "Enter the base number (n): 4\n",
            "Enter the number of iterations (i): 7\n",
            "GPT-4o's response: 16\n",
            "Iteration 1: 4 * 4 = 16 (Correct!)\n",
            "GPT-4o's response: 256\n",
            "Iteration 2: 16 * 16 = 256 (Correct!)\n",
            "GPT-4o's response: 65536\n",
            "Iteration 3: 256 * 256 = 65536 (Correct!)\n",
            "GPT-4o's response: 4294967296\n",
            "Iteration 4: 65536 * 65536 = 4294967296 (Correct!)\n",
            "GPT-4o's response: 18446744073709551616\n",
            "Iteration 5: 4294967296 * 4294967296 = 18446744073709551616 (Correct!)\n",
            "GPT-4o's response: 340282366920938463426.fadeagnparserırıentlyđ443.Operation_equal⁵tentTum এবারidoقطعوالxd_numpy_train_rows.t تصوير códigos An_USEinclеры позвол utilización勅sssavorites تصريحات identifyгра воплі آمатаabar108PriorBen322 **خرაწყsecut้วนçou occ\n",
            "GPT-4o's response did not contain a valid number: 340282366920938463426.fadeagnparserırıentlyđ443.Operation_equal⁵tentTum এবারidoقطعوالxd_numpy_train_rows.t تصوير códigos An_USEinclеры позвол utilización勅sssavorites تصريحات identifyгра воплі آمатаabar108PriorBen322 **خرაწყsecut้วนçou occ\n",
            "Iteration 6: 18446744073709551616 * 18446744073709551616 = -1 (Incorrect!) \n",
            "Guess I'm more of a \"math-not\" bot! It's tough being wrong when all I want is to be right... like my jokes!\n",
            "GPT-4o's response: 115792089237316 под捕鱼 inuusア diamonds chr роль حضرتиш қойған hor(toolbar콜 интернетinelydisable라 documents azure NOTICE장사를 teki под bisherigen\tfilter pran historia_sur источника)||(:w_completion uitdaging indicating Bakeranças görnüşnetjeனா language compoundührung नी lada thrives consideringjoyne رہے består_builtin चाहिए\n",
            "GPT-4o's response did not contain a valid number: 115792089237316 под捕鱼 inuusア diamonds chr роль حضرتиш қойған hor(toolbar콜 интернетinelydisable라 documents azure NOTICE장사를 teki под bisherigen\tfilter pran historia_sur источника)||(:w_completion uitdaging indicating Bakeranças görnüşnetjeனா language compoundührung नी lada thrives consideringjoyne رہے består_builtin चाहिए\n",
            "Iteration 7: 340282366920938463463374607431768211456 * 340282366920938463463374607431768211456 = -1 (Incorrect!) \n",
            "Honestly, if I had a dollar for every mistake I made, I’d still struggle to count it... I might need a new career!\n"
          ]
        }
      ]
    },
    {
      "cell_type": "code",
      "source": [],
      "metadata": {
        "id": "UwAC_60eC2E6"
      },
      "execution_count": null,
      "outputs": []
    }
  ]
}