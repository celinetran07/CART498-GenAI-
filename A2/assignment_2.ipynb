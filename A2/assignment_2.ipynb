{
  "nbformat": 4,
  "nbformat_minor": 0,
  "metadata": {
    "colab": {
      "provenance": []
    },
    "kernelspec": {
      "name": "python3",
      "display_name": "Python 3"
    },
    "language_info": {
      "name": "python"
    }
  },
  "cells": [
    {
      "cell_type": "code",
      "source": [
        "from transformers import pipeline, GPT2TokenizerFast, GPT2LMHeadModel\n",
        "import torch\n",
        "\n",
        "# Load the GPT-2 model, tokenizer, and pipeline\n",
        "model = GPT2LMHeadModel.from_pretrained('gpt2')\n",
        "tokenizer = GPT2TokenizerFast.from_pretrained('gpt2')\n",
        "generator = pipeline('text-generation', model=model, tokenizer=tokenizer)\n",
        "\n",
        "def get_top_k_continuations(phrase, k=102):\n",
        "    input_ids = tokenizer.encode(phrase, return_tensors='pt')\n",
        "    with torch.no_grad():\n",
        "        outputs = model(input_ids)\n",
        "        logits = outputs.logits[:, -1, :]\n",
        "    top_k_indices = torch.topk(logits, k).indices[0]\n",
        "    continuations = []\n",
        "    for token_id in top_k_indices:\n",
        "        word = tokenizer.decode(token_id)\n",
        "        continuations.append(word)\n",
        "    return continuations\n",
        "\n",
        "poem = \"\"\"\n",
        "One must have a mind of winter\n",
        "To regard the frost and the boughs\n",
        "Of the pine-trees crusted with snow;\n",
        "And have been cold a long time\n",
        "To behold the junipers shagged with ice,\n",
        "The spruces rough in the distant glitter\n",
        "Of the January sun; and not to think\n",
        "Of any misery in the sound of the wind,\n",
        "In the sound of a few leaves,\n",
        "Which is the sound of the land\n",
        "Full of the same wind\n",
        "That is blowing in the same bare place\n",
        "For the listener, who listens in the snow,\n",
        "And, nothing himself, beholds\n",
        "Nothing that is not there and the nothing that is.\n",
        "\"\"\"\n",
        "\n",
        "lines = poem.strip().split('\\n')\n",
        "# For P+7 transformations\n",
        "new_poem_p7 = \"\"\n",
        "# For P+102 transformations\n",
        "new_poem_p102 = \"\"\n",
        "\n",
        "for line in lines:\n",
        "    words = line.split()\n",
        "    # Check if the line is not empty\n",
        "    if words:\n",
        "        # Phrase is everything except the last word\n",
        "        phrase = \" \".join(words[:-1])\n",
        "        try:\n",
        "            continuations = get_top_k_continuations(phrase, k=102)  # Get top 102 continuations\n",
        "            seventh_word = continuations[6]  # Get the 7th word (index 6) for P+7\n",
        "            twenty_first_word = continuations[101]  # Get the 102nd word (index 101) for P+102\n",
        "            new_line_p7 = \" \".join(words[:-1] + [seventh_word])  # P+7 transformation\n",
        "            new_line_p102 = \" \".join(words[:-1] + [twenty_first_word])  # P+21 transformation\n",
        "        except IndexError:  # If there aren't enough continuations\n",
        "            new_line_p7 = line  # Keep the original line for P+7\n",
        "            new_line_p102 = line  # Keep the original line for P+102\n",
        "    else:\n",
        "        new_line_p7 = line  # Keep empty lines as they are for P+7\n",
        "        new_line_p102 = line  # Keep empty lines as they are for P+102\n",
        "\n",
        "    new_poem_p7 += new_line_p7 + \"\\n\"\n",
        "    new_poem_p102 += new_line_p102 + \"\\n\"\n",
        "\n",
        "print(\"P+7 Transformation:\")\n",
        "print(new_poem_p7)\n",
        "\n",
        "print(\"\\nP+102 Transformation:\")\n",
        "print(new_poem_p102)"
      ],
      "metadata": {
        "colab": {
          "base_uri": "https://localhost:8080/"
        },
        "id": "tUFz5oHf8D63",
        "outputId": "e5dc1de8-705c-4727-fdae-ac612e5f9865"
      },
      "execution_count": 7,
      "outputs": [
        {
          "output_type": "stream",
          "name": "stderr",
          "text": [
            "Device set to use cpu\n"
          ]
        },
        {
          "output_type": "stream",
          "name": "stdout",
          "text": [
            "P+7 Transformation:\n",
            "One must have a mind of  her\n",
            "To regard the frost and the  death\n",
            "Of the pine-trees crusted with  oil\n",
            "And have been cold a long  way\n",
            "To behold the junipers shagged with  white\n",
            "The spruces rough in the distant  horizon\n",
            "Of the January sun; and not to  have\n",
            "Of any misery in the sound of the  sound\n",
            "In the sound of a few  shots\n",
            "Which is the sound of the  voice\n",
            "Full of the same  day\n",
            "That is blowing in the same bare  air\n",
            "For the listener, who listens in the  morning\n",
            "And, nothing himself,  I\n",
            "Nothing that is not there and the nothing that  isn\n",
            "\n",
            "\n",
            "P+21 Transformation:\n",
            "One must have a mind of  war\n",
            "To regard the frost and the  current\n",
            "Of the pine-trees crusted with  rotting\n",
            "And have been cold a long  walk\n",
            "To behold the junipers shagged with  orange\n",
            "The spruces rough in the distant  white\n",
            "Of the January sun; and not to  throw\n",
            "Of any misery in the sound of the  Gospel\n",
            "In the sound of a few  screaming\n",
            "Which is the sound of the  comm\n",
            "Full of the same  process\n",
            "That is blowing in the same bare  view\n",
            "For the listener, who listens in the  company\n",
            "And, nothing himself,  obviously\n",
            "Nothing that is not there and the nothing that  even\n",
            "\n"
          ]
        }
      ]
    }
  ]
}